{
 "cells": [
  {
   "cell_type": "markdown",
   "metadata": {
    "_cell_guid": "a07f5103-d036-968f-40d7-57649bbb4864"
   },
   "source": [
    "## Introduction\n",
    "\n",
    "Working with these files can be a challenge, especially given their heterogeneous nature. Some preprocessing is required before they are ready for consumption by your CNN.\n",
    "\n",
    "Fortunately, I participated in the LUNA16 competition as part of a university course on computer aided diagnosis, so I have some experience working with these files. At this moment we top the leaderboard there :)\n",
    "\n",
    "**This tutorial aims to provide a comprehensive overview of useful steps to take before the data hits your ConvNet/other ML method.**\n",
    "\n",
    "What we will cover:  \n",
    "\n",
    "* **Loading the DICOM files**, and adding missing metadata  \n",
    "* **Converting the pixel values to *Hounsfield Units (HU)***, and what tissue these unit values correspond to\n",
    "* **Resampling** to an isomorphic resolution to remove variance in scanner resolution.\n",
    "* **3D plotting**, visualization is very useful to see what we are doing.\n",
    "* **Lung segmentation**\n",
    "* **Normalization** that makes sense.\n",
    "* **Zero centering** the scans.\n",
    "\n",
    "\n",
    "---\n",
    "\n",
    "Before we start, let's import some packages and determine the available patients."
   ]
  },
  {
   "cell_type": "code",
   "execution_count": 1,
   "metadata": {
    "_cell_guid": "1d12eab6-3340-fa57-84a1-91fe13886996",
    "collapsed": true
   },
   "outputs": [],
   "source": [
    "%matplotlib inline\n",
    "\n",
    "import numpy as np # linear algebra\n",
    "import pandas as pd # data processing, CSV file I/O (e.g. pd.read_csv)\n",
    "import pydicom as dicom\n",
    "import os\n",
    "import scipy.ndimage\n",
    "import matplotlib.pyplot as plt\n",
    "\n",
    "from skimage import measure, morphology\n",
    "from mpl_toolkits.mplot3d.art3d import Poly3DCollection\n",
    "\n",
    "# Some constants \n",
    "INPUT_FOLDER = '/home/pikachu/PycharmProjects/lungcancer/Data/LIDC-IDRI'\n",
    "patients = os.listdir(INPUT_FOLDER)\n",
    "patients.sort()"
   ]
  },
  {
   "cell_type": "markdown",
   "metadata": {
    "_cell_guid": "56147dd5-3127-8844-644d-0b1565c9dac3"
   },
   "source": [
    "# Loading the files\n",
    "Dicom is the de-facto file standard in medical imaging. This is my first time working with it, but it seems to be fairly straight-forward.  These files contain a lot of metadata (such as the pixel size, so how long one pixel is in every dimension in the real world). \n",
    "\n",
    "This pixel size/coarseness of the scan differs from scan to scan (e.g. the distance between slices may differ), which can hurt performance of CNN approaches. We can deal with this by isomorphic resampling, which we will do later.\n",
    "\n",
    "Below is code to load a scan, which consists of multiple slices, which we simply save in a Python list. Every folder in the dataset is one scan (so one patient). One metadata field is missing, the pixel size in the Z direction, which is the slice thickness. Fortunately we can infer this, and we add this to the metadata."
   ]
  },
  {
   "cell_type": "code",
   "execution_count": 3,
   "metadata": {
    "_cell_guid": "4f50e5b1-c1e8-14a8-591b-eb466e5adc0d",
    "collapsed": true
   },
   "outputs": [],
   "source": [
    "# Load the scans in given folder path\n",
    "def load_scan(path):\n",
    "    slices = [dicom.read_file(path + '/' + s) for s in os.listdir(path)]\n",
    "    slices.sort(key = lambda x: float(x.ImagePositionPatient[2]))\n",
    "    try:\n",
    "        slice_thickness = np.abs(slices[0].ImagePositionPatient[2] - slices[1].ImagePositionPatient[2])\n",
    "    except:\n",
    "        slice_thickness = np.abs(slices[0].SliceLocation - slices[1].SliceLocation)\n",
    "        \n",
    "    for s in slices:\n",
    "        s.SliceThickness = slice_thickness\n",
    "        \n",
    "    return slices"
   ]
  },
  {
   "cell_type": "markdown",
   "metadata": {
    "_cell_guid": "79a91d86-1009-ac6d-14d4-a1c117f3dd64"
   },
   "source": [
    "The unit of measurement in CT scans is the **Hounsfield Unit (HU)**, which is a measure of radiodensity. CT scanners are carefully calibrated to accurately measure this.  From Wikipedia:\n",
    "\n",
    "![HU examples][1]\n",
    "\n",
    "By default however, the returned values are not in this unit. Let's fix this.\n",
    "\n",
    "Some scanners have cylindrical scanning bounds, but the output image is square. The pixels that fall outside of these bounds get the fixed value -2000. The first step is setting these values to 0, which currently corresponds to air. Next, let's go back to HU units, by multiplying with the rescale slope and adding the intercept (which are conveniently stored in the metadata of the scans!).\n",
    "\n",
    "  [1]: http://i.imgur.com/4rlyReh.png"
   ]
  },
  {
   "cell_type": "code",
   "execution_count": 4,
   "metadata": {
    "_cell_guid": "e60f402c-0cd9-f0d2-0c3d-3e7af98f9845",
    "collapsed": true
   },
   "outputs": [],
   "source": [
    "def get_pixels_hu(slices):\n",
    "    image = np.stack([s.pixel_array for s in slices])\n",
    "    # Convert to int16 (from sometimes int16), \n",
    "    # should be possible as values should always be low enough (<32k)\n",
    "    image = image.astype(np.int16)\n",
    "\n",
    "    # Set outside-of-scan pixels to 0\n",
    "    # The intercept is usually -1024, so air is approximately 0\n",
    "    image[image == -2000] = 0\n",
    "    \n",
    "    # Convert to Hounsfield units (HU)\n",
    "    for slice_number in range(len(slices)):\n",
    "        \n",
    "        intercept = slices[slice_number].RescaleIntercept\n",
    "        slope = slices[slice_number].RescaleSlope\n",
    "        \n",
    "        if slope != 1:\n",
    "            image[slice_number] = slope * image[slice_number].astype(np.float64)\n",
    "            image[slice_number] = image[slice_number].astype(np.int16)\n",
    "            \n",
    "        image[slice_number] += np.int16(intercept)\n",
    "    \n",
    "    return np.array(image, dtype=np.int16)"
   ]
  },
  {
   "cell_type": "code",
   "execution_count": 8,
   "metadata": {},
   "outputs": [
    {
     "name": "stdout",
     "output_type": "stream",
     "text": [
      "['/home/pikachu/PycharmProjects/lungcancer/Data/LIDC-IDRI/LIDC-IDRI-0001/01-01-2000-30178/3000566-03192', '/home/pikachu/PycharmProjects/lungcancer/Data/LIDC-IDRI/LIDC-IDRI-0002/01-01-2000-98329/3000522-04919', '/home/pikachu/PycharmProjects/lungcancer/Data/LIDC-IDRI/LIDC-IDRI-0003/01-01-2000-94866/3000611-03264', '/home/pikachu/PycharmProjects/lungcancer/Data/LIDC-IDRI/LIDC-IDRI-0004/01-01-2000-91780/3000534-58228', '/home/pikachu/PycharmProjects/lungcancer/Data/LIDC-IDRI/LIDC-IDRI-0005/01-01-2000-42125/3000548-86225', '/home/pikachu/PycharmProjects/lungcancer/Data/LIDC-IDRI/LIDC-IDRI-0006/01-01-2000-92500/3000556-20957', '/home/pikachu/PycharmProjects/lungcancer/Data/LIDC-IDRI/LIDC-IDRI-0007/01-01-2000-81781/3000631-57680', '/home/pikachu/PycharmProjects/lungcancer/Data/LIDC-IDRI/LIDC-IDRI-0008/01-01-2000-30141/3000549-21954', '/home/pikachu/PycharmProjects/lungcancer/Data/LIDC-IDRI/LIDC-IDRI-0009/01-01-2000-07045/3000538-29210', '/home/pikachu/PycharmProjects/lungcancer/Data/LIDC-IDRI/LIDC-IDRI-0010/01-01-2000-43375/3000518-66796', '/home/pikachu/PycharmProjects/lungcancer/Data/LIDC-IDRI/LIDC-IDRI-0011/01-01-2000-73568/3000559-23138', '/home/pikachu/PycharmProjects/lungcancer/Data/LIDC-IDRI/LIDC-IDRI-0012/01-01-2000-50667/3000561-57842', '/home/pikachu/PycharmProjects/lungcancer/Data/LIDC-IDRI/LIDC-IDRI-0013/01-01-2000-54750/3000551-80786', '/home/pikachu/PycharmProjects/lungcancer/Data/LIDC-IDRI/LIDC-IDRI-0014/01-01-2000-38612/3000562-07402', '/home/pikachu/PycharmProjects/lungcancer/Data/LIDC-IDRI/LIDC-IDRI-0015/01-01-2000-11146/3000610-28223', '/home/pikachu/PycharmProjects/lungcancer/Data/LIDC-IDRI/LIDC-IDRI-0016/01-01-2000-34278/3000580-73630', '/home/pikachu/PycharmProjects/lungcancer/Data/LIDC-IDRI/LIDC-IDRI-0017/01-01-2000-69301/3000613-28428', '/home/pikachu/PycharmProjects/lungcancer/Data/LIDC-IDRI/LIDC-IDRI-0018/01-01-2000-90263/3000550-10592', '/home/pikachu/PycharmProjects/lungcancer/Data/LIDC-IDRI/LIDC-IDRI-0019/01-01-2000-70623/3000523-06585', '/home/pikachu/PycharmProjects/lungcancer/Data/LIDC-IDRI/LIDC-IDRI-0020/01-01-2000-29935/3000525-47372', '/home/pikachu/PycharmProjects/lungcancer/Data/LIDC-IDRI/LIDC-IDRI-0021/01-01-2000-80793/3000570-02868', '/home/pikachu/PycharmProjects/lungcancer/Data/LIDC-IDRI/LIDC-IDRI-0022/01-01-2000-36179/3000630-50076', '/home/pikachu/PycharmProjects/lungcancer/Data/LIDC-IDRI/LIDC-IDRI-0023/01-01-2000-44207/3000628-26588', '/home/pikachu/PycharmProjects/lungcancer/Data/LIDC-IDRI/LIDC-IDRI-0024/01-01-2000-34802/3000557-80114', '/home/pikachu/PycharmProjects/lungcancer/Data/LIDC-IDRI/LIDC-IDRI-0025/01-01-2000-94910/3000524-53557', '/home/pikachu/PycharmProjects/lungcancer/Data/LIDC-IDRI/LIDC-IDRI-0026/01-01-2000-02665/3000519-40086', '/home/pikachu/PycharmProjects/lungcancer/Data/LIDC-IDRI/LIDC-IDRI-0027/01-01-2000-45559/3000614-12456', '/home/pikachu/PycharmProjects/lungcancer/Data/LIDC-IDRI/LIDC-IDRI-0028/01-01-2000-60855/3000563-52671', '/home/pikachu/PycharmProjects/lungcancer/Data/LIDC-IDRI/LIDC-IDRI-0029/01-01-2000-60452/3000545-94314', '/home/pikachu/PycharmProjects/lungcancer/Data/LIDC-IDRI/LIDC-IDRI-0030/01-01-2000-37865/3000576-43183', '/home/pikachu/PycharmProjects/lungcancer/Data/LIDC-IDRI/LIDC-IDRI-0031/01-01-2000-70739/3000608-60568', '/home/pikachu/PycharmProjects/lungcancer/Data/LIDC-IDRI/LIDC-IDRI-0032/01-01-2000-53482/3000537-91689', '/home/pikachu/PycharmProjects/lungcancer/Data/LIDC-IDRI/LIDC-IDRI-0033/01-01-2000-87807/3000546-83490', '/home/pikachu/PycharmProjects/lungcancer/Data/LIDC-IDRI/LIDC-IDRI-0034/01-01-2000-73045/3000516-32832', '/home/pikachu/PycharmProjects/lungcancer/Data/LIDC-IDRI/LIDC-IDRI-0035/01-01-2000-79332/3000582-98613', '/home/pikachu/PycharmProjects/lungcancer/Data/LIDC-IDRI/LIDC-IDRI-0036/01-01-2000-49231/3000521-18990', '/home/pikachu/PycharmProjects/lungcancer/Data/LIDC-IDRI/LIDC-IDRI-0037/01-01-2000-43829/3000573-12179', '/home/pikachu/PycharmProjects/lungcancer/Data/LIDC-IDRI/LIDC-IDRI-0038/01-01-2000-56678/3000554-82428', '/home/pikachu/PycharmProjects/lungcancer/Data/LIDC-IDRI/LIDC-IDRI-0039/01-01-2000-49300/3000517-01463', '/home/pikachu/PycharmProjects/lungcancer/Data/LIDC-IDRI/LIDC-IDRI-0040/01-01-2000-70857/3000578-33640', '/home/pikachu/PycharmProjects/lungcancer/Data/LIDC-IDRI/LIDC-IDRI-0041/01-01-2000-19169/3000568-87015', '/home/pikachu/PycharmProjects/lungcancer/Data/LIDC-IDRI/LIDC-IDRI-0042/01-01-2000-33377/3000579-20341', '/home/pikachu/PycharmProjects/lungcancer/Data/LIDC-IDRI/LIDC-IDRI-0043/01-01-2000-08605/3000629-31276', '/home/pikachu/PycharmProjects/lungcancer/Data/LIDC-IDRI/LIDC-IDRI-0044/01-01-2000-00114/3000571-93273', '/home/pikachu/PycharmProjects/lungcancer/Data/LIDC-IDRI/LIDC-IDRI-0045/01-01-2000-17703/3000547-78950', '/home/pikachu/PycharmProjects/lungcancer/Data/LIDC-IDRI/LIDC-IDRI-0046/01-01-2000-46577/3000577-66972', '/home/pikachu/PycharmProjects/lungcancer/Data/LIDC-IDRI/LIDC-IDRI-0047/01-01-2000-68025/3000552-80992', '/home/pikachu/PycharmProjects/lungcancer/Data/LIDC-IDRI/LIDC-IDRI-0048/01-01-2000-24306/3000624-03732', '/home/pikachu/PycharmProjects/lungcancer/Data/LIDC-IDRI/LIDC-IDRI-0049/01-01-2000-35347/3000627-75427', '/home/pikachu/PycharmProjects/lungcancer/Data/LIDC-IDRI/LIDC-IDRI-0050/01-01-2000-42493/3000572-36359', '/home/pikachu/PycharmProjects/lungcancer/Data/LIDC-IDRI/LIDC-IDRI-0051/01-01-2000-69899/3000609-22907', '/home/pikachu/PycharmProjects/lungcancer/Data/LIDC-IDRI/LIDC-IDRI-0052/01-01-2000-51420/3000625-20084', '/home/pikachu/PycharmProjects/lungcancer/Data/LIDC-IDRI/LIDC-IDRI-0053/01-01-2000-21938/3000615-59071', '/home/pikachu/PycharmProjects/lungcancer/Data/LIDC-IDRI/LIDC-IDRI-0054/01-01-2000-05483/3000565-60291', '/home/pikachu/PycharmProjects/lungcancer/Data/LIDC-IDRI/LIDC-IDRI-0055/01-01-2000-75952/3000581-39150', '/home/pikachu/PycharmProjects/lungcancer/Data/LIDC-IDRI/LIDC-IDRI-0056/01-01-2000-35375/3000535-98069', '/home/pikachu/PycharmProjects/lungcancer/Data/LIDC-IDRI/LIDC-IDRI-0057/01-01-2000-03262/3000514-56951', '/home/pikachu/PycharmProjects/lungcancer/Data/LIDC-IDRI/LIDC-IDRI-0058/01-01-2000-75706/3000626-00770', '/home/pikachu/PycharmProjects/lungcancer/Data/LIDC-IDRI/LIDC-IDRI-0059/01-01-2000-67090/3000564-48912', '/home/pikachu/PycharmProjects/lungcancer/Data/LIDC-IDRI/LIDC-IDRI-0060/01-01-2000-18382/3000575-55115', '/home/pikachu/PycharmProjects/lungcancer/Data/LIDC-IDRI/LIDC-IDRI-0061/01-01-2000-64840/3000560-47886', '/home/pikachu/PycharmProjects/lungcancer/Data/LIDC-IDRI/LIDC-IDRI-0062/01-01-2000-65955/3000558-09430', '/home/pikachu/PycharmProjects/lungcancer/Data/LIDC-IDRI/LIDC-IDRI-0063/01-01-2000-51316/3000555-81128', '/home/pikachu/PycharmProjects/lungcancer/Data/LIDC-IDRI/LIDC-IDRI-0064/01-01-2000-71210/3000612-48666', '/home/pikachu/PycharmProjects/lungcancer/Data/LIDC-IDRI/LIDC-IDRI-0065/01-01-2000-03808/3000536-68085', '/home/pikachu/PycharmProjects/lungcancer/Data/LIDC-IDRI/LIDC-IDRI-0066/01-01-2000-25332/5576-EASERV0.5mmB50f-00410', '/home/pikachu/PycharmProjects/lungcancer/Data/LIDC-IDRI/LIDC-IDRI-0067/01-01-2000-71158/3000708-21600', '/home/pikachu/PycharmProjects/lungcancer/Data/LIDC-IDRI/LIDC-IDRI-0068/01-01-2000-CT CHEST W CONT-80168/4-Recon 3 CT CHEST-26125', '/home/pikachu/PycharmProjects/lungcancer/Data/LIDC-IDRI/LIDC-IDRI-0069/01-01-2000-29787/3079-04249', '/home/pikachu/PycharmProjects/lungcancer/Data/LIDC-IDRI/LIDC-IDRI-0070/01-01-2000-59500/3000667-54720', '/home/pikachu/PycharmProjects/lungcancer/Data/LIDC-IDRI/LIDC-IDRI-0071/01-01-2000-CT CHEST WO CON-19883/4-1.25 STANDARD-54861', '/home/pikachu/PycharmProjects/lungcancer/Data/LIDC-IDRI/LIDC-IDRI-0072/01-01-2000-CT CHEST W CONT-45499/4-Recon 3-88650', '/home/pikachu/PycharmProjects/lungcancer/Data/LIDC-IDRI/LIDC-IDRI-0073/01-01-2000-44963/3000698-25932', '/home/pikachu/PycharmProjects/lungcancer/Data/LIDC-IDRI/LIDC-IDRI-0074/01-01-2000-21544/3000704-44897', '/home/pikachu/PycharmProjects/lungcancer/Data/LIDC-IDRI/LIDC-IDRI-0075/01-01-2000-14796/30083-95222', '/home/pikachu/PycharmProjects/lungcancer/Data/LIDC-IDRI/LIDC-IDRI-0076/01-01-2000-87685/3000734-93071', '/home/pikachu/PycharmProjects/lungcancer/Data/LIDC-IDRI/LIDC-IDRI-0077/01-01-2000-74706/3000706-80131', '/home/pikachu/PycharmProjects/lungcancer/Data/LIDC-IDRI/LIDC-IDRI-0078/01-01-2000-68432/3165-53824', '/home/pikachu/PycharmProjects/lungcancer/Data/LIDC-IDRI/LIDC-IDRI-0079/01-01-2000-37490/3278-05159', '/home/pikachu/PycharmProjects/lungcancer/Data/LIDC-IDRI/LIDC-IDRI-0080/01-01-2000-38073/3000733-81782', '/home/pikachu/PycharmProjects/lungcancer/Data/LIDC-IDRI/LIDC-IDRI-0081/01-01-2000-04821/3000649-44726', '/home/pikachu/PycharmProjects/lungcancer/Data/LIDC-IDRI/LIDC-IDRI-0082/01-01-2000-79176/3000701-44822', '/home/pikachu/PycharmProjects/lungcancer/Data/LIDC-IDRI/LIDC-IDRI-0083/01-01-2000-22049/3000646-60532', '/home/pikachu/PycharmProjects/lungcancer/Data/LIDC-IDRI/LIDC-IDRI-0084/01-01-2000-27940/3211-79503', '/home/pikachu/PycharmProjects/lungcancer/Data/LIDC-IDRI/LIDC-IDRI-0085/01-01-2000-96172/30084-46659', '/home/pikachu/PycharmProjects/lungcancer/Data/LIDC-IDRI/LIDC-IDRI-0086/01-01-2000-47717/5604-TAA  3.0  B30f-44879', '/home/pikachu/PycharmProjects/lungcancer/Data/LIDC-IDRI/LIDC-IDRI-0107/01-01-2000-91396/5591-44791', '/home/pikachu/PycharmProjects/lungcancer/Data/LIDC-IDRI/LIDC-IDRI-0206/01-01-2000-CT CHEST WO CON-83158/102-91582', '/home/pikachu/PycharmProjects/lungcancer/Data/LIDC-IDRI/LIDC-IDRI-0207/01-01-2000-CT ANGIO CHEST WWO C-68595/2-CT PE PROTOCOL BOTTOM TO TOP-90470', '/home/pikachu/PycharmProjects/lungcancer/Data/LIDC-IDRI/LIDC-IDRI-0208/01-01-2000-CT CHEST  NO IV-32740/4-60014', '/home/pikachu/PycharmProjects/lungcancer/Data/LIDC-IDRI/LIDC-IDRI-0209/01-01-2000-CT CAP-23334/4-56843', '/home/pikachu/PycharmProjects/lungcancer/Data/LIDC-IDRI/LIDC-IDRI-0210/01-01-2000-POST CHEST-29270/2-CHEST-99234', '/home/pikachu/PycharmProjects/lungcancer/Data/LIDC-IDRI/LIDC-IDRI-0215/01-01-2000-CT CHEST W CONT-20306/100-47868', '/home/pikachu/PycharmProjects/lungcancer/Data/LIDC-IDRI/LIDC-IDRI-0216/01-01-2000-CT CHABDPELVIS-98419/5-47975', '/home/pikachu/PycharmProjects/lungcancer/Data/LIDC-IDRI/LIDC-IDRI-0217/01-01-2000-CT CAP W-02041/4-Recon 3 C-A-P-28406', '/home/pikachu/PycharmProjects/lungcancer/Data/LIDC-IDRI/LIDC-IDRI-0218/01-01-2000-CT GUIDED LUNG B-79399/2-09778', '/home/pikachu/PycharmProjects/lungcancer/Data/LIDC-IDRI/LIDC-IDRI-0219/01-01-2000-CT THORAX WCONTRAST-22683/4-22205', '/home/pikachu/PycharmProjects/lungcancer/Data/LIDC-IDRI/LIDC-IDRI-0220/01-01-2000-CT ANGIO CHEST NON-CO-85747/2-BOTTOM TO TOP-31764', '/home/pikachu/PycharmProjects/lungcancer/Data/LIDC-IDRI/LIDC-IDRI-0221/01-01-2000-THORAX WITH-39271/2-CHEST-20823', '/home/pikachu/PycharmProjects/lungcancer/Data/LIDC-IDRI/LIDC-IDRI-0222/01-01-2000-CAP-79315/4-Recon 3 C-A-P-45171', '/home/pikachu/PycharmProjects/lungcancer/Data/LIDC-IDRI/LIDC-IDRI-0223/01-01-2000-CT ANGIO CHEST NON-CO-53388/2-BOTTOM TO TOP-66896', '/home/pikachu/PycharmProjects/lungcancer/Data/LIDC-IDRI/LIDC-IDRI-0224/01-01-2000-CT THORAX WCONTRAST-34842/2-CHEST-79565', '/home/pikachu/PycharmProjects/lungcancer/Data/LIDC-IDRI/LIDC-IDRI-0225/01-01-2000-CT THORAX WO CONTRAST-79400/2-CHEST-16551', '/home/pikachu/PycharmProjects/lungcancer/Data/LIDC-IDRI/LIDC-IDRI-0226/01-01-2000-CT CAP-58241/4-Recon 3 C-A-P-36247', '/home/pikachu/PycharmProjects/lungcancer/Data/LIDC-IDRI/LIDC-IDRI-0227/01-01-2000-CT THORAX WO CONTRAST-77370/4-60431', '/home/pikachu/PycharmProjects/lungcancer/Data/LIDC-IDRI/LIDC-IDRI-0228/01-01-2000-CT THORAX WO CONTRAST-27373/4-97507', '/home/pikachu/PycharmProjects/lungcancer/Data/LIDC-IDRI/LIDC-IDRI-0229/01-01-2000-CT THORAX WO CONTRAST-80989/4-59845', '/home/pikachu/PycharmProjects/lungcancer/Data/LIDC-IDRI/LIDC-IDRI-0230/01-01-2000-CT CA-55484/4-Recon 2 CHEST-ABD-67626', '/home/pikachu/PycharmProjects/lungcancer/Data/LIDC-IDRI/LIDC-IDRI-0231/01-01-2000-CT THORAX WCONTRAST-83973/4-Recon 2 C-A-P-54201', '/home/pikachu/PycharmProjects/lungcancer/Data/LIDC-IDRI/LIDC-IDRI-0232/01-01-2000-CT THORAX WCONTRAST-66650/3-Recon 2 CHEST-95182', '/home/pikachu/PycharmProjects/lungcancer/Data/LIDC-IDRI/LIDC-IDRI-0233/01-01-2000-CT CHE.ABDPEL-LIVER-32011/9-Recon 3 CHEST  BLADDER-66493', '/home/pikachu/PycharmProjects/lungcancer/Data/LIDC-IDRI/LIDC-IDRI-0234/01-01-2000-CT CHABPELVIS-85979/4-Recon 3 C-A-P-94709', '/home/pikachu/PycharmProjects/lungcancer/Data/LIDC-IDRI/LIDC-IDRI-0235/01-01-2000-CT CHEABDPEL-69281/4-Recon 3 C-A-P-42103', '/home/pikachu/PycharmProjects/lungcancer/Data/LIDC-IDRI/LIDC-IDRI-0236/01-01-2000-CT THORAX WCONTRAST-06136/2-CHEST-17774', '/home/pikachu/PycharmProjects/lungcancer/Data/LIDC-IDRI/LIDC-IDRI-0237/01-01-2000-CT THORAX WCONTRAST-94125/2-CHEST-16111', '/home/pikachu/PycharmProjects/lungcancer/Data/LIDC-IDRI/LIDC-IDRI-0239/01-01-2000-CT THORAX WO CONTRAST-05073/3-Recon 2 CHEST-62398', '/home/pikachu/PycharmProjects/lungcancer/Data/LIDC-IDRI/LIDC-IDRI-0240/01-01-2000-CT THORAX WCONTRAST-35651/4-58748', '/home/pikachu/PycharmProjects/lungcancer/Data/LIDC-IDRI/LIDC-IDRI-0241/01-01-2000-CT CHEST WO CON-12798/4-15280', '/home/pikachu/PycharmProjects/lungcancer/Data/LIDC-IDRI/LIDC-IDRI-0242/01-01-2000-CT THORAX WCONTRAST-58962/2-CHEST-17235', '/home/pikachu/PycharmProjects/lungcancer/Data/LIDC-IDRI/LIDC-IDRI-0243/01-01-2000-CAP-10738/4-Recon 3 C-A-P-68794', '/home/pikachu/PycharmProjects/lungcancer/Data/LIDC-IDRI/LIDC-IDRI-0244/01-01-2000-CT THORAX WCONTRAST-35776/2-CHEST-26290', '/home/pikachu/PycharmProjects/lungcancer/Data/LIDC-IDRI/LIDC-IDRI-0245/01-01-2000-CT THORAX WCONTRAST-38569/2-CHEST-94083', '/home/pikachu/PycharmProjects/lungcancer/Data/LIDC-IDRI/LIDC-IDRI-0246/01-01-2000-CAP-87239/4-Recon 3 C-A-P-31091', '/home/pikachu/PycharmProjects/lungcancer/Data/LIDC-IDRI/LIDC-IDRI-0247/01-01-2000-CT CAP-42765/6-Recon 3 C-A-P-91202', '/home/pikachu/PycharmProjects/lungcancer/Data/LIDC-IDRI/LIDC-IDRI-0248/01-01-2000-CT CAP-48096/6-Recon 3 C-A-P-95302', '/home/pikachu/PycharmProjects/lungcancer/Data/LIDC-IDRI/LIDC-IDRI-0249/01-01-2000-CT ANGIO CHEST NON-CO-36080/3-Recon 2 BOTTOM TO TOP-28001', '/home/pikachu/PycharmProjects/lungcancer/Data/LIDC-IDRI/LIDC-IDRI-0250/01-01-2000-CT THORAX WCONTRAST-19837/2-CHEST-44411']\n"
     ]
    }
   ],
   "source": [
    "import csv\n",
    "\n",
    "with open('/home/pikachu/PycharmProjects/lungcancer/patients.csv', 'r') as my_file:\n",
    "    reader = csv.reader(my_file, delimiter=',')\n",
    "    patients=list(reader)\n",
    "    patients = patients[0]\n",
    "    print(patients)"
   ]
  },
  {
   "cell_type": "code",
   "execution_count": 17,
   "metadata": {
    "collapsed": true
   },
   "outputs": [],
   "source": [
    "patients = [patient[55:] for patient in patients]"
   ]
  },
  {
   "cell_type": "markdown",
   "metadata": {
    "_cell_guid": "9a64cb22-2b5d-425c-7ced-0e977ca04fa7"
   },
   "source": [
    "Let's take a look at one of the patients."
   ]
  },
  {
   "cell_type": "code",
   "execution_count": 21,
   "metadata": {
    "_cell_guid": "b0012bd3-50f6-278b-de58-a2a39361f1bb"
   },
   "outputs": [
    {
     "ename": "IndexError",
     "evalue": "list index out of range",
     "output_type": "error",
     "traceback": [
      "\u001b[0;31m---------------------------------------------------------------------------\u001b[0m",
      "\u001b[0;31mIndexError\u001b[0m                                Traceback (most recent call last)",
      "\u001b[0;32m<ipython-input-3-000890cb9ca7>\u001b[0m in \u001b[0;36mload_scan\u001b[0;34m(path)\u001b[0m\n\u001b[1;32m      5\u001b[0m     \u001b[0;32mtry\u001b[0m\u001b[0;34m:\u001b[0m\u001b[0;34m\u001b[0m\u001b[0m\n\u001b[0;32m----> 6\u001b[0;31m         \u001b[0mslice_thickness\u001b[0m \u001b[0;34m=\u001b[0m \u001b[0mnp\u001b[0m\u001b[0;34m.\u001b[0m\u001b[0mabs\u001b[0m\u001b[0;34m(\u001b[0m\u001b[0mslices\u001b[0m\u001b[0;34m[\u001b[0m\u001b[0;36m0\u001b[0m\u001b[0;34m]\u001b[0m\u001b[0;34m.\u001b[0m\u001b[0mImagePositionPatient\u001b[0m\u001b[0;34m[\u001b[0m\u001b[0;36m2\u001b[0m\u001b[0;34m]\u001b[0m \u001b[0;34m-\u001b[0m \u001b[0mslices\u001b[0m\u001b[0;34m[\u001b[0m\u001b[0;36m1\u001b[0m\u001b[0;34m]\u001b[0m\u001b[0;34m.\u001b[0m\u001b[0mImagePositionPatient\u001b[0m\u001b[0;34m[\u001b[0m\u001b[0;36m2\u001b[0m\u001b[0;34m]\u001b[0m\u001b[0;34m)\u001b[0m\u001b[0;34m\u001b[0m\u001b[0m\n\u001b[0m\u001b[1;32m      7\u001b[0m     \u001b[0;32mexcept\u001b[0m\u001b[0;34m:\u001b[0m\u001b[0;34m\u001b[0m\u001b[0m\n",
      "\u001b[0;31mIndexError\u001b[0m: list index out of range",
      "\nDuring handling of the above exception, another exception occurred:\n",
      "\u001b[0;31mIndexError\u001b[0m                                Traceback (most recent call last)",
      "\u001b[0;32m<ipython-input-21-3cc67cecd3d2>\u001b[0m in \u001b[0;36m<module>\u001b[0;34m()\u001b[0m\n\u001b[0;32m----> 1\u001b[0;31m \u001b[0mfirst_patient\u001b[0m \u001b[0;34m=\u001b[0m \u001b[0mload_scan\u001b[0m\u001b[0;34m(\u001b[0m\u001b[0mINPUT_FOLDER\u001b[0m \u001b[0;34m+\u001b[0m \u001b[0;34m'/'\u001b[0m \u001b[0;34m+\u001b[0m \u001b[0mpatients\u001b[0m\u001b[0;34m[\u001b[0m\u001b[0;36m0\u001b[0m\u001b[0;34m]\u001b[0m\u001b[0;34m)\u001b[0m\u001b[0;34m\u001b[0m\u001b[0m\n\u001b[0m\u001b[1;32m      2\u001b[0m \u001b[0mfirst_patient_pixels\u001b[0m \u001b[0;34m=\u001b[0m \u001b[0mget_pixels_hu\u001b[0m\u001b[0;34m(\u001b[0m\u001b[0mfirst_patient\u001b[0m\u001b[0;34m)\u001b[0m\u001b[0;34m\u001b[0m\u001b[0m\n\u001b[1;32m      3\u001b[0m \u001b[0mplt\u001b[0m\u001b[0;34m.\u001b[0m\u001b[0mhist\u001b[0m\u001b[0;34m(\u001b[0m\u001b[0mfirst_patient_pixels\u001b[0m\u001b[0;34m.\u001b[0m\u001b[0mflatten\u001b[0m\u001b[0;34m(\u001b[0m\u001b[0;34m)\u001b[0m\u001b[0;34m,\u001b[0m \u001b[0mbins\u001b[0m\u001b[0;34m=\u001b[0m\u001b[0;36m80\u001b[0m\u001b[0;34m,\u001b[0m \u001b[0mcolor\u001b[0m\u001b[0;34m=\u001b[0m\u001b[0;34m'c'\u001b[0m\u001b[0;34m)\u001b[0m\u001b[0;34m\u001b[0m\u001b[0m\n\u001b[1;32m      4\u001b[0m \u001b[0mplt\u001b[0m\u001b[0;34m.\u001b[0m\u001b[0mxlabel\u001b[0m\u001b[0;34m(\u001b[0m\u001b[0;34m\"Hounsfield Units (HU)\"\u001b[0m\u001b[0;34m)\u001b[0m\u001b[0;34m\u001b[0m\u001b[0m\n\u001b[1;32m      5\u001b[0m \u001b[0mplt\u001b[0m\u001b[0;34m.\u001b[0m\u001b[0mylabel\u001b[0m\u001b[0;34m(\u001b[0m\u001b[0;34m\"Frequency\"\u001b[0m\u001b[0;34m)\u001b[0m\u001b[0;34m\u001b[0m\u001b[0m\n",
      "\u001b[0;32m<ipython-input-3-000890cb9ca7>\u001b[0m in \u001b[0;36mload_scan\u001b[0;34m(path)\u001b[0m\n\u001b[1;32m      6\u001b[0m         \u001b[0mslice_thickness\u001b[0m \u001b[0;34m=\u001b[0m \u001b[0mnp\u001b[0m\u001b[0;34m.\u001b[0m\u001b[0mabs\u001b[0m\u001b[0;34m(\u001b[0m\u001b[0mslices\u001b[0m\u001b[0;34m[\u001b[0m\u001b[0;36m0\u001b[0m\u001b[0;34m]\u001b[0m\u001b[0;34m.\u001b[0m\u001b[0mImagePositionPatient\u001b[0m\u001b[0;34m[\u001b[0m\u001b[0;36m2\u001b[0m\u001b[0;34m]\u001b[0m \u001b[0;34m-\u001b[0m \u001b[0mslices\u001b[0m\u001b[0;34m[\u001b[0m\u001b[0;36m1\u001b[0m\u001b[0;34m]\u001b[0m\u001b[0;34m.\u001b[0m\u001b[0mImagePositionPatient\u001b[0m\u001b[0;34m[\u001b[0m\u001b[0;36m2\u001b[0m\u001b[0;34m]\u001b[0m\u001b[0;34m)\u001b[0m\u001b[0;34m\u001b[0m\u001b[0m\n\u001b[1;32m      7\u001b[0m     \u001b[0;32mexcept\u001b[0m\u001b[0;34m:\u001b[0m\u001b[0;34m\u001b[0m\u001b[0m\n\u001b[0;32m----> 8\u001b[0;31m         \u001b[0mslice_thickness\u001b[0m \u001b[0;34m=\u001b[0m \u001b[0mnp\u001b[0m\u001b[0;34m.\u001b[0m\u001b[0mabs\u001b[0m\u001b[0;34m(\u001b[0m\u001b[0mslices\u001b[0m\u001b[0;34m[\u001b[0m\u001b[0;36m0\u001b[0m\u001b[0;34m]\u001b[0m\u001b[0;34m.\u001b[0m\u001b[0mSliceLocation\u001b[0m \u001b[0;34m-\u001b[0m \u001b[0mslices\u001b[0m\u001b[0;34m[\u001b[0m\u001b[0;36m1\u001b[0m\u001b[0;34m]\u001b[0m\u001b[0;34m.\u001b[0m\u001b[0mSliceLocation\u001b[0m\u001b[0;34m)\u001b[0m\u001b[0;34m\u001b[0m\u001b[0m\n\u001b[0m\u001b[1;32m      9\u001b[0m \u001b[0;34m\u001b[0m\u001b[0m\n\u001b[1;32m     10\u001b[0m     \u001b[0;32mfor\u001b[0m \u001b[0ms\u001b[0m \u001b[0;32min\u001b[0m \u001b[0mslices\u001b[0m\u001b[0;34m:\u001b[0m\u001b[0;34m\u001b[0m\u001b[0m\n",
      "\u001b[0;31mIndexError\u001b[0m: list index out of range"
     ]
    }
   ],
   "source": [
    "first_patient = load_scan(INPUT_FOLDER + '/' + patients[0])\n",
    "first_patient_pixels = get_pixels_hu(first_patient)\n",
    "plt.hist(first_patient_pixels.flatten(), bins=80, color='c')\n",
    "plt.xlabel(\"Hounsfield Units (HU)\")\n",
    "plt.ylabel(\"Frequency\")\n",
    "plt.show()\n",
    "\n",
    "# Show some slice in the middle\n",
    "plt.imshow(first_patient_pixels[80], cmap=plt.cm.gray)\n",
    "plt.show()"
   ]
  },
  {
   "cell_type": "markdown",
   "metadata": {
    "_cell_guid": "894982a5-844c-ebb2-a48c-62a057cf5ec9"
   },
   "source": [
    "Looking at the table from Wikipedia and this histogram, we can clearly see which pixels are air and which are tissue. We will use this for lung segmentation in a bit :)\n",
    "\n",
    "\n",
    "----------"
   ]
  },
  {
   "cell_type": "markdown",
   "metadata": {
    "_cell_guid": "ae70ecba-82a6-099b-ac6a-c2f69c055929"
   },
   "source": [
    "# Resampling\n",
    "A scan may have a pixel spacing of `[2.5, 0.5, 0.5]`, which means that the distance between slices is `2.5` millimeters. For a different scan this may be `[1.5, 0.725, 0.725]`, this can be problematic for automatic analysis (e.g. using ConvNets)! \n",
    "\n",
    "A common method of dealing with this is resampling the full dataset to a certain isotropic resolution. If we choose to resample everything to 1mm*1mm*1mm pixels we can use 3D convnets without worrying about learning zoom/slice thickness invariance. \n",
    "\n",
    "Whilst this may seem like a very simple step, it has quite some edge cases due to rounding. Also, it takes quite a while.\n",
    "\n",
    "Below code worked well for us (and deals with the edge cases):"
   ]
  },
  {
   "cell_type": "code",
   "execution_count": null,
   "metadata": {
    "_cell_guid": "59c11a48-c6d0-8522-f5cd-b03d8ee812f6",
    "collapsed": true
   },
   "outputs": [],
   "source": [
    "def resample(image, scan, new_spacing=[1,1,1]):\n",
    "    # Determine current pixel spacing\n",
    "    spacing = np.array([scan[0].SliceThickness] + scan[0].PixelSpacing, dtype=np.float32)\n",
    "\n",
    "    resize_factor = spacing / new_spacing\n",
    "    new_real_shape = image.shape * resize_factor\n",
    "    new_shape = np.round(new_real_shape)\n",
    "    real_resize_factor = new_shape / image.shape\n",
    "    new_spacing = spacing / real_resize_factor\n",
    "    \n",
    "    image = scipy.ndimage.interpolation.zoom(image, real_resize_factor, mode='nearest')\n",
    "    \n",
    "    return image, new_spacing"
   ]
  },
  {
   "cell_type": "markdown",
   "metadata": {
    "_cell_guid": "04b36366-5dd1-90b1-ad19-065127fe4720"
   },
   "source": [
    "Please note that when you apply this, to save the new spacing! Due to rounding this may be slightly off from the desired spacing (above script picks the best possible spacing with rounding).\n",
    "\n",
    "Let's resample our patient's pixels to an isomorphic resolution of 1 by 1 by 1 mm."
   ]
  },
  {
   "cell_type": "code",
   "execution_count": null,
   "metadata": {
    "_cell_guid": "53acb2e7-1edc-8212-3b6d-30eb16d75025",
    "collapsed": true
   },
   "outputs": [],
   "source": [
    "pix_resampled, spacing = resample(first_patient_pixels, first_patient, [1,1,1])\n",
    "print(\"Shape before resampling\\t\", first_patient_pixels.shape)\n",
    "print(\"Shape after resampling\\t\", pix_resampled.shape)"
   ]
  },
  {
   "cell_type": "markdown",
   "metadata": {
    "_cell_guid": "405beab9-b95f-9ea6-6f51-235943c1d5dc"
   },
   "source": [
    "# 3D plotting the scan\n",
    "For visualization it is useful to be able to show a 3D image of the scan. Unfortunately, the packages available in this Kaggle docker image is very limited in this sense, so we will use marching cubes to create an approximate mesh for our 3D object, and plot this with matplotlib. Quite slow and ugly, but the best we can do."
   ]
  },
  {
   "cell_type": "code",
   "execution_count": null,
   "metadata": {
    "_cell_guid": "05a89e78-9a12-c019-8693-efb4030172bd",
    "collapsed": true
   },
   "outputs": [],
   "source": [
    "def plot_3d(image, threshold=-300):\n",
    "    \n",
    "    # Position the scan upright, \n",
    "    # so the head of the patient would be at the top facing the camera\n",
    "    p = image.transpose(2,1,0)\n",
    "    \n",
    "    verts, faces = measure.marching_cubes(p, threshold)\n",
    "\n",
    "    fig = plt.figure(figsize=(10, 10))\n",
    "    ax = fig.add_subplot(111, projection='3d')\n",
    "\n",
    "    # Fancy indexing: `verts[faces]` to generate a collection of triangles\n",
    "    mesh = Poly3DCollection(verts[faces], alpha=0.70)\n",
    "    face_color = [0.45, 0.45, 0.75]\n",
    "    mesh.set_facecolor(face_color)\n",
    "    ax.add_collection3d(mesh)\n",
    "\n",
    "    ax.set_xlim(0, p.shape[0])\n",
    "    ax.set_ylim(0, p.shape[1])\n",
    "    ax.set_zlim(0, p.shape[2])\n",
    "\n",
    "    plt.show()"
   ]
  },
  {
   "cell_type": "markdown",
   "metadata": {
    "_cell_guid": "60f79f87-44cc-620e-259c-d18d2e085bd6"
   },
   "source": [
    "Our plot function takes a threshold argument which we can use to plot certain structures, such as all tissue or only the bones. 400 is a good threshold for showing the bones only (see Hounsfield unit table above). Let's do this!"
   ]
  },
  {
   "cell_type": "code",
   "execution_count": null,
   "metadata": {
    "_cell_guid": "8373d7cb-c307-b8a3-c9a4-6d3daec2cee5",
    "collapsed": true
   },
   "outputs": [],
   "source": [
    "plot_3d(pix_resampled, 400)"
   ]
  },
  {
   "cell_type": "markdown",
   "metadata": {
    "_cell_guid": "375b567c-90eb-dee2-6fc6-e6463833640e"
   },
   "source": [
    "Spooky!\n",
    "\n",
    "# Lung segmentation\n",
    "In order to reduce the problem space, we can segment the lungs (and usually some tissue around it). The method that me and my student colleagues developed was quite effective. \n",
    "\n",
    "It involves quite a few smart steps. It consists of a series of applications of region growing and morphological operations. In this case, we will use only connected component analysis.\n",
    "\n",
    "The steps:  \n",
    "\n",
    "* Threshold the image (-320 HU is a good threshold, but it doesn't matter much for this approach)\n",
    "* Do connected components, determine label of air around person, fill this with 1s in the binary image\n",
    "* Optionally: For every axial slice in the scan, determine the largest solid connected component (the body+air around the person), and set others to 0. This fills the structures in the lungs in the mask.\n",
    "* Keep only the largest air pocket (the human body has other pockets of air here and there)."
   ]
  },
  {
   "cell_type": "code",
   "execution_count": null,
   "metadata": {
    "_cell_guid": "436e766a-6f93-862a-4f8c-4b384cdd9e82",
    "collapsed": true
   },
   "outputs": [],
   "source": [
    "def largest_label_volume(im, bg=-1):\n",
    "    vals, counts = np.unique(im, return_counts=True)\n",
    "\n",
    "    counts = counts[vals != bg]\n",
    "    vals = vals[vals != bg]\n",
    "\n",
    "    if len(counts) > 0:\n",
    "        return vals[np.argmax(counts)]\n",
    "    else:\n",
    "        return None\n",
    "\n",
    "def segment_lung_mask(image, fill_lung_structures=True):\n",
    "    \n",
    "    # not actually binary, but 1 and 2. \n",
    "    # 0 is treated as background, which we do not want\n",
    "    binary_image = np.array(image > -320, dtype=np.int8)+1\n",
    "    labels = measure.label(binary_image)\n",
    "    \n",
    "    # Pick the pixel in the very corner to determine which label is air.\n",
    "    #   Improvement: Pick multiple background labels from around the patient\n",
    "    #   More resistant to \"trays\" on which the patient lays cutting the air \n",
    "    #   around the person in half\n",
    "    background_label = labels[0,0,0]\n",
    "    \n",
    "    #Fill the air around the person\n",
    "    binary_image[background_label == labels] = 2\n",
    "    \n",
    "    \n",
    "    # Method of filling the lung structures (that is superior to something like \n",
    "    # morphological closing)\n",
    "    if fill_lung_structures:\n",
    "        # For every slice we determine the largest solid structure\n",
    "        for i, axial_slice in enumerate(binary_image):\n",
    "            axial_slice = axial_slice - 1\n",
    "            labeling = measure.label(axial_slice)\n",
    "            l_max = largest_label_volume(labeling, bg=0)\n",
    "            \n",
    "            if l_max is not None: #This slice contains some lung\n",
    "                binary_image[i][labeling != l_max] = 1\n",
    "\n",
    "    \n",
    "    binary_image -= 1 #Make the image actual binary\n",
    "    binary_image = 1-binary_image # Invert it, lungs are now 1\n",
    "    \n",
    "    # Remove other air pockets insided body\n",
    "    labels = measure.label(binary_image, background=0)\n",
    "    l_max = largest_label_volume(labels, bg=0)\n",
    "    if l_max is not None: # There are air pockets\n",
    "        binary_image[labels != l_max] = 0\n",
    " \n",
    "    return binary_image"
   ]
  },
  {
   "cell_type": "code",
   "execution_count": null,
   "metadata": {
    "_cell_guid": "0601c7e8-f67a-2178-225a-a23474d54cae",
    "collapsed": true
   },
   "outputs": [],
   "source": [
    "segmented_lungs = segment_lung_mask(pix_resampled, False)\n",
    "segmented_lungs_fill = segment_lung_mask(pix_resampled, True)"
   ]
  },
  {
   "cell_type": "code",
   "execution_count": null,
   "metadata": {
    "_cell_guid": "0a632d49-cc04-15da-f743-addb07504055",
    "collapsed": true
   },
   "outputs": [],
   "source": [
    "plot_3d(segmented_lungs, 0)"
   ]
  },
  {
   "cell_type": "markdown",
   "metadata": {
    "_cell_guid": "45a40c3f-919c-0ba0-fe87-f66b3817e1ab"
   },
   "source": [
    "Beautiful! \n",
    "\n",
    "But there's one thing we can fix, it is probably a good idea to include structures within the lung (as the nodules are solid), we do not only want to air in the lungs. "
   ]
  },
  {
   "cell_type": "code",
   "execution_count": null,
   "metadata": {
    "_cell_guid": "10d5d6fd-1994-d263-1ec3-be09d1f40c00",
    "collapsed": true
   },
   "outputs": [],
   "source": [
    "plot_3d(segmented_lungs_fill, 0)"
   ]
  },
  {
   "cell_type": "markdown",
   "metadata": {
    "_cell_guid": "96bdffec-ca48-b503-84ab-e119fbd68bfe"
   },
   "source": [
    "That's better. Let's also visualize the difference between the two."
   ]
  },
  {
   "cell_type": "code",
   "execution_count": null,
   "metadata": {
    "_cell_guid": "764cb248-ee97-f98c-3860-7df87b13bc1b",
    "collapsed": true
   },
   "outputs": [],
   "source": [
    "plot_3d(segmented_lungs_fill - segmented_lungs, 0)"
   ]
  },
  {
   "cell_type": "markdown",
   "metadata": {
    "_cell_guid": "756185c7-1833-66b8-572d-30d480533ad0"
   },
   "source": [
    "Pretty cool, no? \n",
    "\n",
    "Anyway, when you want to use this mask, **remember to first apply a dilation morphological operation** on it (i.e. with a circular kernel).  This expands the mask in all directions. The air + structures in the lung alone will not contain all nodules, in particular it will miss those that are stuck to the side of the lung, where they often appear! So expand the mask a little :)\n",
    "\n",
    "**This segmentation may fail for some edge cases**. It relies on the fact that the air outside the patient is not connected to the air in the lungs. If the patient has a [tracheostomy](https://en.wikipedia.org/wiki/Tracheotomy), this will not be the case, I do not know whether this is present in the dataset. Also, particulary noisy images (for instance due to a pacemaker in the image below) this method may also fail. Instead, the second largest air pocket in the body will be segmented. You can recognize this by checking the fraction of image that the mask corresponds to, which will be very small for this case. You can then first apply a morphological closing operation with a kernel a few mm in size to close these holes, after which it should work (or more simply, do not use the mask for this image). \n",
    "\n",
    "![pacemaker example][1]\n",
    "\n",
    "# Normalization\n",
    "Our values currently range from -1024 to around 2000. Anything above 400 is not interesting to us, as these are simply bones with different radiodensity.  A commonly used set of thresholds in the LUNA16 competition to normalize between are -1000 and 400. Here's some code you can use:\n",
    "\n",
    "\n",
    "  [1]: http://i.imgur.com/po0eX1L.png"
   ]
  },
  {
   "cell_type": "code",
   "execution_count": null,
   "metadata": {
    "_cell_guid": "b65e2226-a7a5-777d-5e4c-2e87e2f708a9",
    "collapsed": true
   },
   "outputs": [],
   "source": [
    "MIN_BOUND = -1000.0\n",
    "MAX_BOUND = 400.0\n",
    "    \n",
    "def normalize(image):\n",
    "    image = (image - MIN_BOUND) / (MAX_BOUND - MIN_BOUND)\n",
    "    image[image>1] = 1.\n",
    "    image[image<0] = 0.\n",
    "    return image"
   ]
  },
  {
   "cell_type": "markdown",
   "metadata": {
    "_cell_guid": "f2f3eacf-3a41-a36d-ecb5-9354d926e6f4"
   },
   "source": [
    "# Zero centering\n",
    "\n",
    "As a final preprocessing step, it is advisory to zero center your data so that your mean value is 0. To do this you simply subtract the mean pixel value from all pixels. \n",
    "\n",
    "To determine this mean you simply average all images in the whole dataset.  If that sounds like a lot of work, we found this to be around 0.25 in the LUNA16 competition. \n",
    "\n",
    "**Warning: Do not zero center with the mean per image (like is done in some kernels on here). The CT scanners are calibrated to return accurate HU measurements. There is no such thing as an image with lower contrast or brightness like in normal pictures.**"
   ]
  },
  {
   "cell_type": "code",
   "execution_count": null,
   "metadata": {
    "_cell_guid": "3570abfa-b13a-bd5b-06f3-9fd9a4329b1d",
    "collapsed": true
   },
   "outputs": [],
   "source": [
    "PIXEL_MEAN = 0.25\n",
    "\n",
    "def zero_center(image):\n",
    "    image = image - PIXEL_MEAN\n",
    "    return image"
   ]
  },
  {
   "cell_type": "markdown",
   "metadata": {
    "_cell_guid": "17e813c3-6388-1956-47a2-24bb54376142"
   },
   "source": [
    "# What's next? \n",
    "\n",
    "With these steps your images are ready for consumption by your CNN or other ML method :). You can do all these steps offline (one time and save the result), and I would advise you to do so and let it run overnight as it may take a long time. \n",
    "\n",
    "**Tip:** To save storage space, don't do normalization and zero centering beforehand, but do this online (during training, just after loading). If you don't do this yet, your image are int16's, which are smaller than float32s and easier to compress as well.\n",
    "\n",
    "**If this tutorial helped you at all, please upvote it and leave a comment :)**"
   ]
  }
 ],
 "metadata": {
  "_change_revision": 0,
  "_is_fork": false,
  "kernelspec": {
   "display_name": "Python 3",
   "language": "python",
   "name": "python3"
  },
  "language_info": {
   "codemirror_mode": {
    "name": "ipython",
    "version": 3
   },
   "file_extension": ".py",
   "mimetype": "text/x-python",
   "name": "python",
   "nbconvert_exporter": "python",
   "pygments_lexer": "ipython3",
   "version": "3.5.2"
  }
 },
 "nbformat": 4,
 "nbformat_minor": 1
}
