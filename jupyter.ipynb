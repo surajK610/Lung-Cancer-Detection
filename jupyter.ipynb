{
 "cells": [
  {
   "cell_type": "markdown",
   "metadata": {},
   "source": [
    "# <center>**Ensemble Model for Improved Personalized Lung Cancer Risk Assessment and Malignant Nodule Detection.** </center> \n",
    "\n",
    "## Overview \n",
    "1.\n",
    "\n",
    "* Lung Cancer is fatal, earlier detection is crucial in treating\n",
    "\n",
    "2.\n",
    "\n",
    "* Phase 1 GBM w/ personalized patient characteristics more accurate screening tool\n",
    "* Identifies previously misclassified patients\n",
    "* Based on my research, Race/Ethnic group, BML, COPD were predictive of lung cancer risk\n",
    "\n",
    "3.\n",
    "\n",
    "* Once CT, nodules difficult, needle in haystack\n",
    "* CAD, which should be good solution, only secondary because of high false positive rate\n",
    "* Ensemble of CNN identify lung nodules and predict one year malignancy\n",
    "* Sensitivity 90%, less 2 fps per scan\n",
    "\n",
    "4.\n",
    "\n",
    "* Automated first screen identify high risk and located nodules\n",
    "\n",
    "### By: Suraj Anand\n",
    "\n",
    "### 2018-2019\n",
    "\n"
   ]
  },
  {
   "cell_type": "markdown",
   "metadata": {},
   "source": [
    "# <center>Research</center>\n",
    "**This notebook has pictures of the methods**\n",
    "\n",
    "* [Gradient Boosted Machine](#GBM) \n",
    "* [CT Scan Ensemble Overview](#CNN)\n",
    "* [Convolutional Network Explanation](#Model)\n",
    "* [Augmentation](#Aug)\n",
    "* [Fully Convolutional Network Candidate Regions](#FCN)\n",
    "* [Four Discriminator Convolutional Network Candidate Regions](#Disc)\n",
    "* [Linear Classifier](#Linear)\n",
    "* [Summary](#Summary)"
   ]
  },
  {
   "cell_type": "markdown",
   "metadata": {},
   "source": [
    "<a id='GBM'></a>\n",
    "## <center> Gradient Boosted Machine </center>\n",
    "\n",
    "There are 50 of these trees trained on a dataset of 23,000 patients (12,000 with lung cancer).\n",
    "The training algorithm is as follows:\n",
    "\n",
    "![IMG](LC_FIGs/gbm.png)\n",
    "![IMG](LC_FIGs/out.png)\n",
    "![IMG](LC_FIGs/branch.png)\n",
    "\n",
    "## Sensitivity of 89% compared to previous guideline sensitivity of 23%"
   ]
  },
  {
   "cell_type": "markdown",
   "metadata": {},
   "source": [
    "<a id='CNN'></a>\n",
    "# <center> Machine Learning CT Scan CNN Ensemble Overview </center>\n",
    "\n",
    "### 1. Preprocessing of DICOM CT Scans\n",
    "### 2. Fully Convolutional Network for Candidate Nodule Regions \n",
    "### 3. Four 3D CNN Discriminator Networks for Detection of Nodules with Malignant Potential\n",
    "                       1. Unet Network for course nodule segmentation\n",
    "                       2. VGG-like scanner CNN for fine-grained nodule probabilistic determination\n",
    "                       3. VGG-like scanner CNN for fine-grained nodule probabilistic determination (trained on false \n",
    "                          positives)\n",
    "                       4. Unet network for anomalous tissue detection \n",
    "                       \n",
    "             *All networks except the 3rd are trained on the full training set\n",
    "             *All networks except the 4th detect nodules and predict calcification, size, luminosity\n",
    " \n",
    "### 4. Linear Classifier predicting development of lung cancer within one year"
   ]
  },
  {
   "cell_type": "markdown",
   "metadata": {},
   "source": [
    "## **Preprocessing of the CT Scans**\n",
    "\n",
    "* **Loading the DICOM files**, and adding missing metadata  \n",
    "* **Converting the pixel values to *Hounsfield Units (HU)***, and what tissue these unit values correspond to\n",
    "* **Resampling** to an isomorphic resolution to remove variance in scanner resolution.\n",
    "* **3D plotting**, visualization is very useful to see what we are doing.\n",
    "* **Lung segmentation**\n",
    "* **Normalization** that makes sense.\n",
    "* **Zero centering** the scans.\n",
    "\n"
   ]
  },
  {
   "cell_type": "markdown",
   "metadata": {},
   "source": [
    "### HU Units\n",
    "![IMG](LC_FIGS/HU.png)\n",
    "\n",
    "### Lung Segmentation\n",
    "![GIF](whole-scan-downsampled5x.gif)\n",
    "\n",
    "![GIF](lung_segmentation.gif)"
   ]
  },
  {
   "cell_type": "markdown",
   "metadata": {},
   "source": [
    "### Lung 3D Visualizations using the HU Units\n",
    "\n",
    "Applied filter to HU units to process bones\n",
    "![IMG](LC_FIGS/ribs.png)\n",
    "\n",
    "Applied filter to HU units to process lung\n",
    "![IMG](LC_FIGS/visualLung.png)\n",
    "\n",
    "* ### HU units cropped from -1000 to 400 to simplify problem\n",
    "* ### Scans are resampled using interpolation to account for scanner variability\n",
    "* ### Scans are normalized"
   ]
  },
  {
   "cell_type": "markdown",
   "metadata": {},
   "source": [
    "<a id='Aug'></a>\n",
    "## Augmentation\n",
    "\n",
    "![IMG](LC_FIGS/augmentation.png)\n",
    "\n"
   ]
  },
  {
   "cell_type": "markdown",
   "metadata": {},
   "source": [
    "\n",
    "\n",
    "## Hand Labeled Big Pulmonary Masses to Improve Classifier\n",
    "\n",
    "\n",
    "Example of Nodule Detection of LUNA Candidates with labeled Pulmonary Mass\n",
    "![IMG](LC_FIGS/Annotated.png)"
   ]
  },
  {
   "cell_type": "markdown",
   "metadata": {},
   "source": [
    "<a id='Model'></a>\n",
    "## Model Construction\n",
    "\n",
    "## How a Convolutional Neural Network Works\n",
    "![IMG](LC_FIGS/convolutional.png)\n",
    "\n",
    "![IMG](LC_FIGS/pool.png)\n",
    "![IMG](LC_FIGS/ex2.png)\n",
    "![IMG](LC_FIGS/ex1.png)\n",
    "\n",
    "Applied filter to HU units to process lung\n",
    "![IMG](LC_FIGS/convolution_schematic.gif)"
   ]
  },
  {
   "cell_type": "markdown",
   "metadata": {},
   "source": [
    "<a id='FCN'></a>\n",
    "\n",
    "## Fully Convolutional Network for Candidate Nodule Regions \n",
    "\n",
    "* **Operates only in spatial realm (no fully-connected layer) producing much faster processing**\n",
    "* **Reduces area processed by 4 Discriminators**\n",
    "\n",
    "Mask computed by Fully Convolutional Network\n",
    "![IMG](LC_FIGS/mask.png)\n",
    "\n",
    "Example of Candidate Nodule Region Generation\n",
    "![IMG](LC_FIGS/candidate_nodules2.gif)\n",
    "\n",
    "\n"
   ]
  },
  {
   "cell_type": "markdown",
   "metadata": {},
   "source": [
    "\n",
    "<a id='Disc'></a>\n",
    "## Four 3D CNN Discriminator Networks for Detection of Nodules with Malignant Potential, and Nodule Morphology Predictions \n",
    "                       1. Unet Network for course nodule segmentation\n",
    "                       2. VGG-like scanner CNN for fine-grained nodule probabilistic determination\n",
    "                       3. VGG-like scanner CNN for fine-grained nodule probabilistic determination (trained on false \n",
    "                          positives)\n",
    "                       4. Unet network for anomalous tissue detection \n",
    "                       \n",
    "             *All networks except the 3rd are trained on the full training set\n",
    "             *All networks except the 4th detect nodules and predict calcification, size, luminosity\n",
    " \n",
    "# To decrease false positive rate, third CNN trained on set of false positives\n",
    "\n",
    "Example of Nodule Detection from best discriminator\n",
    "![IMG](LC_FIGS/final_nod.gif)\n",
    "size: 30\n",
    "calcification: [ 0. 0. 0. 0. 0. 1.]\n",
    "spherity: [ 0. 0.25 0.75]\n",
    "malignancy:\t18.08 (trained from squared)\n",
    "spiculation: 1.5\n",
    "#### **The Ensemble also predicts the z-location, calcification, spiculation as seen above**\n",
    "\n",
    "\n",
    "\n",
    "\n"
   ]
  },
  {
   "cell_type": "markdown",
   "metadata": {},
   "source": [
    "<a id='Linear'></a>\n",
    "\n",
    "## Linear Classifier predicting development of lung cancer within one year\n",
    "![IMG](LC_FIGS/linreg.png)\n",
    "\n",
    "# FINAL PREDICTION: 88% accuracy \n",
    "## This is probability of one-year lung cancer development\n",
    "\n"
   ]
  },
  {
   "cell_type": "markdown",
   "metadata": {},
   "source": [
    "<a id='Summary'></a>\n",
    "\n",
    "\n"
   ]
  },
  {
   "cell_type": "markdown",
   "metadata": {},
   "source": []
  },
  {
   "cell_type": "markdown",
   "metadata": {},
   "source": []
  },
  {
   "cell_type": "markdown",
   "metadata": {},
   "source": []
  }
 ],
 "metadata": {
  "anaconda-cloud": {},
  "kernelspec": {
   "display_name": "Python [default]",
   "language": "python",
   "name": "python3"
  },
  "language_info": {
   "codemirror_mode": {
    "name": "ipython",
    "version": 3
   },
   "file_extension": ".py",
   "mimetype": "text/x-python",
   "name": "python",
   "nbconvert_exporter": "python",
   "pygments_lexer": "ipython3",
   "version": "3.5.2"
  }
 },
 "nbformat": 4,
 "nbformat_minor": 2
}
